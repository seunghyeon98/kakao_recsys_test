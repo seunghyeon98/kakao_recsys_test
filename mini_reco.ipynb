{
 "cells": [
  {
   "cell_type": "markdown",
   "metadata": {},
   "source": [
    "1. 최근접 이웃 집합 U를 계산 \n",
    "\n",
    "\n",
    "2. 식 1로 생성한 num_item_rec_top M 개의 추천 결과를 한 줄로 출력\n",
    "\n",
    "U에서, 점수가 높은 item을 한줄로 출력\n",
    "\n",
    "    * 추천 결과의 각 아이템 id는 공백으로 구분되어야함\n",
    "    * 사용자에게 추천할 수 있는 아이템 집합 i가 아닌, 최근접 이웃 u가 평가한 아이템 집합 i' 임"
   ]
  },
  {
   "cell_type": "markdown",
   "metadata": {},
   "source": [
    "1. make data frame\n",
    "    input list, put in dict, trans data frame\n",
    "2. transform to pivot table\n",
    "    df.pivot_table('rating',index='user_id',columns='title').fillna(0)\n",
    "3. calculate cosine similiarity\n",
    "4. find similiar user"
   ]
  },
  {
   "cell_type": "markdown",
   "metadata": {},
   "source": []
  },
  {
   "cell_type": "markdown",
   "metadata": {},
   "source": [
    "예측 평점 구하기.\n",
    "\n",
    "예측 평점 =  (item 유사도 * 평점) / (item 유사도의 합)"
   ]
  },
  {
   "cell_type": "code",
   "execution_count": 1,
   "metadata": {},
   "outputs": [],
   "source": [
    "import pandas as pd\n",
    "import numpy as np\n",
    "from sklearn.metrics.pairwise import cosine_similarity"
   ]
  },
  {
   "cell_type": "code",
   "execution_count": 41,
   "metadata": {},
   "outputs": [],
   "source": [
    "import math\n",
    "\n",
    "def ndcg(gt,rec):\n",
    "    idcg = sum([1.0/math.log(i+2,2) for i in range(len(gt))])\n",
    "    dcg = 0.0\n",
    "    for i,r in enumerate(rec):\n",
    "        if r not in gt:\n",
    "            continue\n",
    "        gt_index = gt.index(r)\n",
    "        if i != gt_index:\n",
    "            rel = 0.7\n",
    "        else:\n",
    "            rel = 1.0\n",
    "        dcg += rel/math.log(i+2,2)\n",
    "    ndcg = dcg/idcg\n",
    "\n",
    "    return ndcg"
   ]
  },
  {
   "cell_type": "code",
   "execution_count": null,
   "metadata": {},
   "outputs": [],
   "source": []
  },
  {
   "cell_type": "code",
   "execution_count": null,
   "metadata": {},
   "outputs": [],
   "source": [
    "for user_idx in range(1,num_users+1):\n",
    "    for item_idx in range(1,item_idx+1):\n",
    "        input_data = input().split(' ')\n",
    "        user_id = int(input_data[0])\n",
    "        item_id = int(input_data[1])\n",
    "        rating = float(input_data[2])\n",
    "\n",
    "        if user_id == user_idx:\n",
    "            temp_dic ={'user_id':user_id}"
   ]
  },
  {
   "cell_type": "code",
   "execution_count": null,
   "metadata": {},
   "outputs": [],
   "source": [
    "num_sim_user_top_N = int(input())\n",
    "num_item_rec_top_M = int(input())\n",
    "\n",
    "num_users = int(input())\n",
    "num_items = int(input())\n",
    "num_rows = int(input())\n",
    "num_row = []\n",
    "\n",
    "# 1. user, item 데이터 프레임 만들기\n",
    "# 2. 그 데이터 프레임에 값 채워넣기\n",
    "\n",
    "# 데이터 채우기\n",
    "for _ in range(num_rows):\n",
    "    temp = input().split(' ')\n",
    "    \n",
    "    num_row.append({'user_id':int(temp[0]),'item_id':int(temp[1]),'rating':float(temp[2])})\n",
    "\n",
    "    # 유저당 10개의 아이템을 할당함.\n",
    "\n",
    "num_row_df = pd.DataFrame(num_row)\n",
    "\n",
    "pivot_matrix = num_row_df.pivot_table('rating',index='user_id',columns='item_id').fillna(0)\n",
    "cosine_matrix = cosine_similarity(pivot_matrix,pivot_matrix)\n",
    "user_sim_matrix = pd.DataFrame(data=cosine_matrix,index=pivot_matrix.index,columns=pivot_matrix.index)\n",
    "\n",
    "# for idx in range()\n",
    "# user_sim_matrix[].sort_values(ascending=False)[1:num_sim_user_top_N+1]\n",
    "\n",
    "\n",
    "num_reco_users = int(input())\n",
    "\n",
    "print('num_item_rec_top_M items for user 1',)\n",
    "print('num_item_rec_top_M items for user 2',)\n"
   ]
  },
  {
   "cell_type": "code",
   "execution_count": 52,
   "metadata": {},
   "outputs": [],
   "source": [
    "user_sim_matrix = pd.DataFrame(data=cosine_matrix,index=pivot_matrix.index,columns=pivot_matrix.index)"
   ]
  },
  {
   "cell_type": "markdown",
   "metadata": {},
   "source": [
    "num_reco_users =2 , 1, 2 명에 대한 각각 2명의 유사도가 높은 사용자를 뽑고\n",
    "\n",
    "num_item_rec_top_M개 만큼의 아이템을 뽑음"
   ]
  },
  {
   "cell_type": "code",
   "execution_count": 69,
   "metadata": {},
   "outputs": [
    {
     "data": {
      "text/plain": [
       "[5, 1, 2, 4]"
      ]
     },
     "execution_count": 69,
     "metadata": {},
     "output_type": "execute_result"
    }
   ],
   "source": [
    "\n",
    "# 입력을 받지 않은 값, 0으로 채운다음에 해당 코드 적재하기\n",
    "recommend_items= []\n",
    "for num_reco_user  in range(1,num_sim_user_top_N+1):\n",
    "    sim_users=  user_sim_matrix[num_reco_user].sort_values(ascending=False)[1:num_sim_user_top_N+1].index.to_list()\n",
    "    for sim_user in sim_users:\n",
    "        recommend_item = pivot_matrix[sim_user].sort_values(ascending=False)[:num_item_rec_top_M].index.to_list()\n",
    "\n",
    "        check_duplicate = pivot_matrix[sim_user].index.to_list()\n",
    "\n",
    "        # 중복 제거\n",
    "        checked_recommend_item = list(set(recommend_item) - set(check_duplicate))\n",
    "\n",
    "\n",
    "    recommend_items.append(checked_recommend_item)\n",
    "\n",
    "recommend_items_1d = [ item for sublist in recommend_items for item in sublist]\n",
    "recommend_items_1d"
   ]
  },
  {
   "cell_type": "code",
   "execution_count": 12,
   "metadata": {},
   "outputs": [
    {
     "name": "stdout",
     "output_type": "stream",
     "text": [
      "[{'user_id': 1, 'item_id': 1, 'rating': 2.34}, {'user_id': 1, 'item_id': 2, 'rating': 6.21}]\n"
     ]
    },
    {
     "data": {
      "text/html": [
       "<div>\n",
       "<style scoped>\n",
       "    .dataframe tbody tr th:only-of-type {\n",
       "        vertical-align: middle;\n",
       "    }\n",
       "\n",
       "    .dataframe tbody tr th {\n",
       "        vertical-align: top;\n",
       "    }\n",
       "\n",
       "    .dataframe thead th {\n",
       "        text-align: right;\n",
       "    }\n",
       "</style>\n",
       "<table border=\"1\" class=\"dataframe\">\n",
       "  <thead>\n",
       "    <tr style=\"text-align: right;\">\n",
       "      <th></th>\n",
       "      <th>user_id</th>\n",
       "      <th>item_id</th>\n",
       "      <th>rating</th>\n",
       "    </tr>\n",
       "  </thead>\n",
       "  <tbody>\n",
       "    <tr>\n",
       "      <th>0</th>\n",
       "      <td>1</td>\n",
       "      <td>1</td>\n",
       "      <td>2.34</td>\n",
       "    </tr>\n",
       "    <tr>\n",
       "      <th>1</th>\n",
       "      <td>1</td>\n",
       "      <td>2</td>\n",
       "      <td>6.21</td>\n",
       "    </tr>\n",
       "  </tbody>\n",
       "</table>\n",
       "</div>"
      ],
      "text/plain": [
       "   user_id  item_id  rating\n",
       "0        1        1    2.34\n",
       "1        1        2    6.21"
      ]
     },
     "execution_count": 12,
     "metadata": {},
     "output_type": "execute_result"
    }
   ],
   "source": [
    "num_rows = int(input())\n",
    "num_row = []\n",
    "for _ in range(num_rows):\n",
    "    temp = input().split(' ')\n",
    "\n",
    "    num_row.append({'user_id':int(temp[0]),'item_id':int(temp[1]),'rating':float(temp[2])})\n",
    "\n",
    "print(num_row)\n",
    "\n",
    "num_row_df = pd.DataFrame(num_row)\n",
    "num_row_df"
   ]
  },
  {
   "cell_type": "code",
   "execution_count": 32,
   "metadata": {},
   "outputs": [
    {
     "data": {
      "text/html": [
       "<div>\n",
       "<style scoped>\n",
       "    .dataframe tbody tr th:only-of-type {\n",
       "        vertical-align: middle;\n",
       "    }\n",
       "\n",
       "    .dataframe tbody tr th {\n",
       "        vertical-align: top;\n",
       "    }\n",
       "\n",
       "    .dataframe thead th {\n",
       "        text-align: right;\n",
       "    }\n",
       "</style>\n",
       "<table border=\"1\" class=\"dataframe\">\n",
       "  <thead>\n",
       "    <tr style=\"text-align: right;\">\n",
       "      <th>item_id</th>\n",
       "      <th>1</th>\n",
       "      <th>2</th>\n",
       "    </tr>\n",
       "    <tr>\n",
       "      <th>user_id</th>\n",
       "      <th></th>\n",
       "      <th></th>\n",
       "    </tr>\n",
       "  </thead>\n",
       "  <tbody>\n",
       "    <tr>\n",
       "      <th>1</th>\n",
       "      <td>2.34</td>\n",
       "      <td>6.21</td>\n",
       "    </tr>\n",
       "  </tbody>\n",
       "</table>\n",
       "</div>"
      ],
      "text/plain": [
       "item_id     1     2\n",
       "user_id            \n",
       "1        2.34  6.21"
      ]
     },
     "execution_count": 32,
     "metadata": {},
     "output_type": "execute_result"
    }
   ],
   "source": [
    "num_row_df\n",
    "pivot_table = num_row_df.pivot_table('rating',index='user_id',columns='item_id').fillna(0)\n",
    "pivot_table"
   ]
  },
  {
   "cell_type": "code",
   "execution_count": 42,
   "metadata": {},
   "outputs": [
    {
     "ename": "NameError",
     "evalue": "name 'num_reco_users' is not defined",
     "output_type": "error",
     "traceback": [
      "\u001b[1;31m---------------------------------------------------------------------------\u001b[0m",
      "\u001b[1;31mNameError\u001b[0m                                 Traceback (most recent call last)",
      "\u001b[1;32mc:\\Users\\USER\\Desktop\\Project\\kakao Recommedation Test\\mini_reco.ipynb 셀 13\u001b[0m line \u001b[0;36m5\n\u001b[0;32m      <a href='vscode-notebook-cell:/c%3A/Users/USER/Desktop/Project/kakao%20Recommedation%20Test/mini_reco.ipynb#X11sZmlsZQ%3D%3D?line=1'>2</a>\u001b[0m cosine_df \u001b[39m=\u001b[39m cosine_similarity(pivot_table,pivot_table)\n\u001b[0;32m      <a href='vscode-notebook-cell:/c%3A/Users/USER/Desktop/Project/kakao%20Recommedation%20Test/mini_reco.ipynb#X11sZmlsZQ%3D%3D?line=3'>4</a>\u001b[0m user_sim_df \u001b[39m=\u001b[39m pd\u001b[39m.\u001b[39mDataFrame(data\u001b[39m=\u001b[39mcosine_df,index\u001b[39m=\u001b[39mpivot_table\u001b[39m.\u001b[39mindex,columns\u001b[39m=\u001b[39mpivot_table\u001b[39m.\u001b[39mindex)\n\u001b[1;32m----> <a href='vscode-notebook-cell:/c%3A/Users/USER/Desktop/Project/kakao%20Recommedation%20Test/mini_reco.ipynb#X11sZmlsZQ%3D%3D?line=4'>5</a>\u001b[0m \u001b[39mfor\u001b[39;00m idx \u001b[39min\u001b[39;00m \u001b[39mrange\u001b[39m(num_reco_users):\n\u001b[0;32m      <a href='vscode-notebook-cell:/c%3A/Users/USER/Desktop/Project/kakao%20Recommedation%20Test/mini_reco.ipynb#X11sZmlsZQ%3D%3D?line=5'>6</a>\u001b[0m     temp \u001b[39m=\u001b[39m user_sim_df[idx]\u001b[39m.\u001b[39msort_values(ascending\u001b[39m=\u001b[39m\u001b[39mFalse\u001b[39;00m)[\u001b[39m1\u001b[39m:num_sim_user_top_N\u001b[39m+\u001b[39m\u001b[39m1\u001b[39m]\n\u001b[0;32m      <a href='vscode-notebook-cell:/c%3A/Users/USER/Desktop/Project/kakao%20Recommedation%20Test/mini_reco.ipynb#X11sZmlsZQ%3D%3D?line=6'>7</a>\u001b[0m     \u001b[39mprint\u001b[39m(temp)\n",
      "\u001b[1;31mNameError\u001b[0m: name 'num_reco_users' is not defined"
     ]
    }
   ],
   "source": [
    "from sklearn.metrics.pairwise import cosine_similarity\n",
    "cosine_df = cosine_similarity(pivot_table,pivot_table)\n",
    "\n",
    "user_sim_df = pd.DataFrame(data=cosine_df,index=pivot_table.index,columns=pivot_table.index)\n",
    "\n",
    "\n",
    "recommend_list= []\n",
    "\n",
    "for idx in range(num_reco_users):\n",
    "    recommend = user_sim_df[idx].sort_values(ascending=False)[1:num_sim_user_top_N+1]   \n",
    "    recommend_list.append(recommend)\n",
    "\n",
    "print(recommend_list)"
   ]
  },
  {
   "cell_type": "code",
   "execution_count": null,
   "metadata": {},
   "outputs": [],
   "source": []
  }
 ],
 "metadata": {
  "kernelspec": {
   "display_name": "base",
   "language": "python",
   "name": "python3"
  },
  "language_info": {
   "codemirror_mode": {
    "name": "ipython",
    "version": 3
   },
   "file_extension": ".py",
   "mimetype": "text/x-python",
   "name": "python",
   "nbconvert_exporter": "python",
   "pygments_lexer": "ipython3",
   "version": "3.10.9"
  },
  "orig_nbformat": 4
 },
 "nbformat": 4,
 "nbformat_minor": 2
}
